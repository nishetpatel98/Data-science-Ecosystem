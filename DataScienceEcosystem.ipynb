{
 "cells": [
  {
   "cell_type": "markdown",
   "id": "cd0e8cdd-0d83-40e8-b753-f26cd3449e34",
   "metadata": {},
   "source": [
    "# Data science Tools and Ecosystem"
   ]
  },
  {
   "cell_type": "markdown",
   "id": "a99f41ce-9019-4ddb-83a5-52f1e7fd3d2e",
   "metadata": {},
   "source": [
    "In this notebook, Data Science Tools and Ecosystem are summarized."
   ]
  },
  {
   "cell_type": "markdown",
   "id": "2033d715-ace2-479d-9fac-1171d94d096e",
   "metadata": {},
   "source": [
    "**Objectives:**\n",
    "- Python\n",
    "- SQL\n",
    "- Java\n",
    "- C++"
   ]
  },
  {
   "cell_type": "markdown",
   "id": "85e3ac96-c855-4434-9e33-628f54b6ea85",
   "metadata": {},
   "source": [
    "Some of the popular languages that Data Scientist use are: \n",
    "1. Python\n",
    "2. SQL\n",
    "3. Java\n",
    "\n",
    "\n"
   ]
  },
  {
   "cell_type": "markdown",
   "id": "b3330977-ef93-4645-881d-bc6cd79dda0d",
   "metadata": {},
   "source": [
    "Some of the popular Libraries that Data Scientist include are:\n",
    "1. Tensarflow\n",
    "2. NumPu\n",
    "3. SciPy\n",
    "4. Plotly"
   ]
  },
  {
   "cell_type": "markdown",
   "id": "e2cd5e90-e0ee-4966-bfe7-9acc7def83e7",
   "metadata": {},
   "source": [
    "| Data Science tools |\n",
    "|--------------------|\n",
    "| Apache Spark |\n",
    "| Tensarflow |\n",
    "| Apache Hadoop |"
   ]
  },
  {
   "cell_type": "markdown",
   "id": "3136803f-2ced-4846-9304-eb8f06bd836f",
   "metadata": {},
   "source": [
    "### Below are a few examples of evaluating arithmetic expressions in Python"
   ]
  },
  {
   "cell_type": "code",
   "execution_count": 31,
   "id": "adb717bd-ee71-4f09-9cc2-4a0e2162207e",
   "metadata": {},
   "outputs": [
    {
     "data": {
      "text/plain": [
       "17"
      ]
     },
     "execution_count": 31,
     "metadata": {},
     "output_type": "execute_result"
    }
   ],
   "source": [
    "#This is a simple arithmetic expression to multiply then add integers\n",
    "(3*4)+5\n"
   ]
  },
  {
   "cell_type": "code",
   "execution_count": 41,
   "id": "e41af3ae-dead-42cc-b339-a57665387278",
   "metadata": {
    "scrolled": true
   },
   "outputs": [
    {
     "data": {
      "text/plain": [
       "3.3333333333333335"
      ]
     },
     "execution_count": 41,
     "metadata": {},
     "output_type": "execute_result"
    }
   ],
   "source": [
    "# This will convert 200 minutes to hours. the ouput to this calculation is hours\n",
    "(200/60) "
   ]
  },
  {
   "cell_type": "markdown",
   "id": "bfb71f66-833c-4041-b523-e3c9152f3c76",
   "metadata": {},
   "source": [
    "## Author\n",
    "Nishet Patel"
   ]
  },
  {
   "cell_type": "code",
   "execution_count": null,
   "id": "c5445750-4ebd-4dbd-8a32-12550bff4850",
   "metadata": {},
   "outputs": [],
   "source": []
  }
 ],
 "metadata": {
  "kernelspec": {
   "display_name": "Python 3 (ipykernel)",
   "language": "python",
   "name": "python3"
  },
  "language_info": {
   "codemirror_mode": {
    "name": "ipython",
    "version": 3
   },
   "file_extension": ".py",
   "mimetype": "text/x-python",
   "name": "python",
   "nbconvert_exporter": "python",
   "pygments_lexer": "ipython3",
   "version": "3.12.4"
  }
 },
 "nbformat": 4,
 "nbformat_minor": 5
}
